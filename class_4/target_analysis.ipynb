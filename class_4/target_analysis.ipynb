{
 "cells": [
  {
   "cell_type": "code",
   "execution_count": 1,
   "metadata": {},
   "outputs": [],
   "source": [
    "import pandas as pd\n",
    "\n",
    "import matplotlib.pyplot as plt\n",
    "%matplotlib inline\n",
    "\n",
    "pd.options.display.max_columns = None\n",
    "pd.options.display.max_rows = None"
   ]
  },
  {
   "cell_type": "code",
   "execution_count": 2,
   "metadata": {},
   "outputs": [
    {
     "name": "stdout",
     "output_type": "stream",
     "text": [
      "----Iniciando carga del dataset----\n"
     ]
    },
    {
     "name": "stderr",
     "output_type": "stream",
     "text": [
      "/Users/nestornav/.virtualenvs/diplo/lib/python3.7/site-packages/IPython/core/interactiveshell.py:3146: DtypeWarning: Columns (1) have mixed types.Specify dtype option on import or set low_memory=False.\n",
      "  interactivity=interactivity, compiler=compiler, result=result)\n"
     ]
    }
   ],
   "source": [
    "yelp_path = r'../works/data/reviews_yelp_nn.csv'\n",
    "# col = ['business_id', 'cool', 'date', 'funny', 'review_id', 'stars', 'text', 'useful', 'user_id']\n",
    "print('----Iniciando carga del dataset----')\n",
    "\n",
    "\n",
    "df = pd.read_csv(yelp_path,\n",
    "                 sep='\\t',\n",
    "                 header=0)"
   ]
  },
  {
   "cell_type": "code",
   "execution_count": 3,
   "metadata": {},
   "outputs": [
    {
     "data": {
      "text/plain": [
       "(3342958, 9)"
      ]
     },
     "execution_count": 3,
     "metadata": {},
     "output_type": "execute_result"
    }
   ],
   "source": [
    "df.shape"
   ]
  },
  {
   "cell_type": "code",
   "execution_count": 4,
   "metadata": {},
   "outputs": [
    {
     "name": "stdout",
     "output_type": "stream",
     "text": [
      "business_id\tcool\tdate\tfunny\treview_id\tstars\ttext\tuseful\tuser_id\r\n",
      "EhGPj8iJDIdaHnWg9d5BgA\t0\t2016-04-20 14:30:53\t0.0\tuJRdHLz4XNmDK5pOkWbZNA\t5.0\tBest Dim Sum in the city, their cart service is great and offer big selection of quality dim sum.  You can order off the menu too if there is something you haven't seen come around.  It is a little more expensive but you can't beat it, and the view is perfect for a weekend brunch.\t0.0\tPOETn3fQcZ8ngLAARCATSg\r\n",
      "VPcFNI-6HICR5SJM--KjNA\t5\t2013-05-14 03:08:12\t2.0\tTlPh8jy8bt_TSGfjEw-pvA\t5.0\t\"How... HOW did I not head down here sooner? For real. When Yelpers say there's a Calgary establishment and I need to drive halfway across town to get to it, I need to get my ass in my car and go. \r\n",
      "cat: stdout: Broken pipe\r\n"
     ]
    }
   ],
   "source": [
    "!cat ../works/data/reviews_yelp_nn.csv | head -n 3"
   ]
  },
  {
   "cell_type": "code",
   "execution_count": 24,
   "metadata": {},
   "outputs": [
    {
     "data": {
      "text/plain": [
       "(6820636, 1)"
      ]
     },
     "execution_count": 24,
     "metadata": {},
     "output_type": "execute_result"
    }
   ],
   "source": [
    "df.shape"
   ]
  },
  {
   "cell_type": "code",
   "execution_count": 25,
   "metadata": {
    "scrolled": true
   },
   "outputs": [
    {
     "data": {
      "text/html": [
       "<div>\n",
       "<style scoped>\n",
       "    .dataframe tbody tr th:only-of-type {\n",
       "        vertical-align: middle;\n",
       "    }\n",
       "\n",
       "    .dataframe tbody tr th {\n",
       "        vertical-align: top;\n",
       "    }\n",
       "\n",
       "    .dataframe thead th {\n",
       "        text-align: right;\n",
       "    }\n",
       "</style>\n",
       "<table border=\"1\" class=\"dataframe\">\n",
       "  <thead>\n",
       "    <tr style=\"text-align: right;\">\n",
       "      <th></th>\n",
       "      <th></th>\n",
       "      <th>business_id\\tcool\\tdate\\tfunny\\treview_id\\tstars\\ttext\\tuseful\\tuser_id</th>\n",
       "    </tr>\n",
       "  </thead>\n",
       "  <tbody>\n",
       "    <tr>\n",
       "      <th>EhGPj8iJDIdaHnWg9d5BgA\\t0\\t2016-04-20 14:30:53\\t0.0\\tuJRdHLz4XNmDK5pOkWbZNA\\t5.0\\tBest Dim Sum in the city</th>\n",
       "      <th>their cart service is great and offer big selection of quality dim sum.  You can order off the menu too if there is something you haven't seen come around.  It is a little more expensive but you can't beat it</th>\n",
       "      <td>and the view is perfect for a weekend brunch....</td>\n",
       "    </tr>\n",
       "    <tr>\n",
       "      <th>VPcFNI-6HICR5SJM--KjNA\\t5\\t2013-05-14 03:08:12\\t2.0\\tTlPh8jy8bt_TSGfjEw-pvA\\t5.0\\t\"How... HOW did I not head down here sooner? For real. When Yelpers say there's a Calgary establishment and I need to drive halfway across town to get to it</th>\n",
       "      <th>I need to get my ass in my car and go.</th>\n",
       "      <td>NaN</td>\n",
       "    </tr>\n",
       "    <tr>\n",
       "      <th>Bill's. Where has your ginger beef been all my life? What's that? Right in your kitchen</th>\n",
       "      <th>served on your tables</th>\n",
       "      <td>mouths and mouths before me having devoured i...</td>\n",
       "    </tr>\n",
       "    <tr>\n",
       "      <th>It's not just the ginger beef here that gets my 5 stars though. It's that it's just a consistently solid experience. Just like everyone said</th>\n",
       "      <th>Bill himself was there to greet us at the door when we walked up the stairs. We snagged the last table for 2</th>\n",
       "      <td>the rest of the restaurant was full. And we o...</td>\n",
       "    </tr>\n",
       "    <tr>\n",
       "      <th>The meal consisted of:</th>\n",
       "      <th>NaN</th>\n",
       "      <td>NaN</td>\n",
       "    </tr>\n",
       "  </tbody>\n",
       "</table>\n",
       "</div>"
      ],
      "text/plain": [
       "                                                                                                      business_id\\tcool\\tdate\\tfunny\\treview_id\\tstars\\ttext\\tuseful\\tuser_id\n",
       "EhGPj8iJDIdaHnWg9d5BgA\\t0\\t2016-04-20 14:30:53\\...  their cart service is great and offer big sele...   and the view is perfect for a weekend brunch....                     \n",
       "VPcFNI-6HICR5SJM--KjNA\\t5\\t2013-05-14 03:08:12\\...  I need to get my ass in my car and go.                                                           NaN                     \n",
       "Bill's. Where has your ginger beef been all my ...  served on your tables                               mouths and mouths before me having devoured i...                     \n",
       "It's not just the ginger beef here that gets my...  Bill himself was there to greet us at the door...   the rest of the restaurant was full. And we o...                     \n",
       "The meal consisted of:                             NaN                                                                                               NaN                     "
      ]
     },
     "execution_count": 25,
     "metadata": {},
     "output_type": "execute_result"
    }
   ],
   "source": [
    "df.head()"
   ]
  },
  {
   "cell_type": "code",
   "execution_count": 35,
   "metadata": {},
   "outputs": [
    {
     "data": {
      "text/html": [
       "<div>\n",
       "<style scoped>\n",
       "    .dataframe tbody tr th:only-of-type {\n",
       "        vertical-align: middle;\n",
       "    }\n",
       "\n",
       "    .dataframe tbody tr th {\n",
       "        vertical-align: top;\n",
       "    }\n",
       "\n",
       "    .dataframe thead th {\n",
       "        text-align: right;\n",
       "    }\n",
       "</style>\n",
       "<table border=\"1\" class=\"dataframe\">\n",
       "  <thead>\n",
       "    <tr style=\"text-align: right;\">\n",
       "      <th></th>\n",
       "      <th>business_id</th>\n",
       "      <th>cool</th>\n",
       "      <th>date</th>\n",
       "      <th>funny</th>\n",
       "      <th>review_id</th>\n",
       "      <th>stars</th>\n",
       "      <th>text</th>\n",
       "      <th>useful</th>\n",
       "      <th>user_id</th>\n",
       "    </tr>\n",
       "  </thead>\n",
       "  <tbody>\n",
       "    <tr>\n",
       "      <th>0</th>\n",
       "      <td>EhGPj8iJDIdaHnWg9d5BgA</td>\n",
       "      <td>0</td>\n",
       "      <td>2016-04-20 14:30:53</td>\n",
       "      <td>0.0</td>\n",
       "      <td>uJRdHLz4XNmDK5pOkWbZNA</td>\n",
       "      <td>5.0</td>\n",
       "      <td>Best Dim Sum in the city, their cart service i...</td>\n",
       "      <td>0.0</td>\n",
       "      <td>POETn3fQcZ8ngLAARCATSg</td>\n",
       "    </tr>\n",
       "    <tr>\n",
       "      <th>1</th>\n",
       "      <td>VPcFNI-6HICR5SJM--KjNA</td>\n",
       "      <td>5</td>\n",
       "      <td>2013-05-14 03:08:12</td>\n",
       "      <td>2.0</td>\n",
       "      <td>TlPh8jy8bt_TSGfjEw-pvA</td>\n",
       "      <td>5.0</td>\n",
       "      <td>How... HOW did I not head down here sooner? Fo...</td>\n",
       "      <td>7.0</td>\n",
       "      <td>oUK6Xs5dPPnP4whFeZExGg</td>\n",
       "    </tr>\n",
       "    <tr>\n",
       "      <th>2</th>\n",
       "      <td>ugdUuApH3pYXggW5qpbALg</td>\n",
       "      <td>0</td>\n",
       "      <td>2016-08-26 16:51:37</td>\n",
       "      <td>0.0</td>\n",
       "      <td>GmoBAVE1pTo0kjmeKrXmLQ</td>\n",
       "      <td>4.0</td>\n",
       "      <td>Carnitas were wonderful. First time there and ...</td>\n",
       "      <td>0.0</td>\n",
       "      <td>SiaSUNlKQK7f57WBPmyyNw</td>\n",
       "    </tr>\n",
       "    <tr>\n",
       "      <th>3</th>\n",
       "      <td>3fCxmmg8nHGaE5upJWQUrw</td>\n",
       "      <td>0</td>\n",
       "      <td>2016-03-24 17:23:19</td>\n",
       "      <td>0.0</td>\n",
       "      <td>ZHuM9P81zfuNuFZ5ThXNRg</td>\n",
       "      <td>5.0</td>\n",
       "      <td>Great staff who are always willing to help. I ...</td>\n",
       "      <td>0.0</td>\n",
       "      <td>PsH5Qi8R69WAlhNv8mXWRA</td>\n",
       "    </tr>\n",
       "    <tr>\n",
       "      <th>4</th>\n",
       "      <td>LAqbIi2TDn8BDvPB0nLVhQ</td>\n",
       "      <td>1</td>\n",
       "      <td>2012-10-25 15:02:48</td>\n",
       "      <td>0.0</td>\n",
       "      <td>-2Ce00mfWYP20yt7k6kARg</td>\n",
       "      <td>3.0</td>\n",
       "      <td>This place is bigger, brighter, new so it's cl...</td>\n",
       "      <td>3.0</td>\n",
       "      <td>r-zUIQPaHzvIyL93wQaoiQ</td>\n",
       "    </tr>\n",
       "  </tbody>\n",
       "</table>\n",
       "</div>"
      ],
      "text/plain": [
       "              business_id cool                 date  funny  \\\n",
       "0  EhGPj8iJDIdaHnWg9d5BgA    0  2016-04-20 14:30:53    0.0   \n",
       "1  VPcFNI-6HICR5SJM--KjNA    5  2013-05-14 03:08:12    2.0   \n",
       "2  ugdUuApH3pYXggW5qpbALg    0  2016-08-26 16:51:37    0.0   \n",
       "3  3fCxmmg8nHGaE5upJWQUrw    0  2016-03-24 17:23:19    0.0   \n",
       "4  LAqbIi2TDn8BDvPB0nLVhQ    1  2012-10-25 15:02:48    0.0   \n",
       "\n",
       "                review_id  stars  \\\n",
       "0  uJRdHLz4XNmDK5pOkWbZNA    5.0   \n",
       "1  TlPh8jy8bt_TSGfjEw-pvA    5.0   \n",
       "2  GmoBAVE1pTo0kjmeKrXmLQ    4.0   \n",
       "3  ZHuM9P81zfuNuFZ5ThXNRg    5.0   \n",
       "4  -2Ce00mfWYP20yt7k6kARg    3.0   \n",
       "\n",
       "                                                text  useful  \\\n",
       "0  Best Dim Sum in the city, their cart service i...     0.0   \n",
       "1  How... HOW did I not head down here sooner? Fo...     7.0   \n",
       "2  Carnitas were wonderful. First time there and ...     0.0   \n",
       "3  Great staff who are always willing to help. I ...     0.0   \n",
       "4  This place is bigger, brighter, new so it's cl...     3.0   \n",
       "\n",
       "                  user_id  \n",
       "0  POETn3fQcZ8ngLAARCATSg  \n",
       "1  oUK6Xs5dPPnP4whFeZExGg  \n",
       "2  SiaSUNlKQK7f57WBPmyyNw  \n",
       "3  PsH5Qi8R69WAlhNv8mXWRA  \n",
       "4  r-zUIQPaHzvIyL93wQaoiQ  "
      ]
     },
     "execution_count": 35,
     "metadata": {},
     "output_type": "execute_result"
    }
   ],
   "source": [
    "df.head()"
   ]
  },
  {
   "cell_type": "code",
   "execution_count": 44,
   "metadata": {},
   "outputs": [
    {
     "data": {
      "image/png": "[encoded data removed]",
      "text/plain": [
       "<Figure size 432x288 with 1 Axes>"
      ]
     },
     "metadata": {
      "needs_background": "light"
     },
     "output_type": "display_data"
    }
   ],
   "source": [
    "# Check rating distribution\n",
    "fig = plt.figure(figsize = (6, 4))\n",
    "\n",
    "title = fig.suptitle(\"Rating distribution for stars\", fontsize=14)\n",
    "\n",
    "fig.subplots_adjust(top=0.85, wspace=0.3)\n",
    "\n",
    "ax = fig.add_subplot(1,1, 1)\n",
    "ax.set_xlabel(\"Rating\")\n",
    "ax.set_ylabel(\"Proportion\") \n",
    "w_q = df['stars'].value_counts(normalize=True)\n",
    "w_q = (list(w_q.index), list(w_q.values))\n",
    "ax.tick_params(axis='both', which='major', labelsize=8.5)\n",
    "bar = ax.bar(w_q[0], w_q[1], color='steelblue')"
   ]
  },
  {
   "cell_type": "markdown",
   "metadata": {},
   "source": [
    "## Aproximación mas naive para obtener un target"
   ]
  },
  {
   "cell_type": "code",
   "execution_count": 9,
   "metadata": {},
   "outputs": [],
   "source": [
    "def get_target(star):\n",
    "    return 'positive' if star > 3 else 'negative'"
   ]
  },
  {
   "cell_type": "code",
   "execution_count": 10,
   "metadata": {},
   "outputs": [],
   "source": [
    "df['target'] = df['stars'].apply( lambda x: get_target(x) )"
   ]
  },
  {
   "cell_type": "code",
   "execution_count": 11,
   "metadata": {},
   "outputs": [
    {
     "data": {
      "text/html": [
       "<div>\n",
       "<style scoped>\n",
       "    .dataframe tbody tr th:only-of-type {\n",
       "        vertical-align: middle;\n",
       "    }\n",
       "\n",
       "    .dataframe tbody tr th {\n",
       "        vertical-align: top;\n",
       "    }\n",
       "\n",
       "    .dataframe thead th {\n",
       "        text-align: right;\n",
       "    }\n",
       "</style>\n",
       "<table border=\"1\" class=\"dataframe\">\n",
       "  <thead>\n",
       "    <tr style=\"text-align: right;\">\n",
       "      <th></th>\n",
       "      <th>business_id</th>\n",
       "      <th>cool</th>\n",
       "      <th>date</th>\n",
       "      <th>funny</th>\n",
       "      <th>review_id</th>\n",
       "      <th>stars</th>\n",
       "      <th>text</th>\n",
       "      <th>useful</th>\n",
       "      <th>user_id</th>\n",
       "      <th>target</th>\n",
       "    </tr>\n",
       "  </thead>\n",
       "  <tbody>\n",
       "    <tr>\n",
       "      <th>3342953</th>\n",
       "      <td>oryS4vX0xkKC4tOekgowDQ</td>\n",
       "      <td>0</td>\n",
       "      <td>2016-07-17 21:32:48</td>\n",
       "      <td>0.0</td>\n",
       "      <td>pBNcMg-KVzZG-xDu9cgLww</td>\n",
       "      <td>2.0</td>\n",
       "      <td>Slow service to seat and then to serve. Left w...</td>\n",
       "      <td>0.0</td>\n",
       "      <td>srjcYNoIOXJ57VP8z7gwmQ</td>\n",
       "      <td>negative</td>\n",
       "    </tr>\n",
       "    <tr>\n",
       "      <th>3342954</th>\n",
       "      <td>na4Th5DrNauOv-c43QQFvA</td>\n",
       "      <td>4</td>\n",
       "      <td>2017-11-28 22:43:05</td>\n",
       "      <td>2.0</td>\n",
       "      <td>xNG2SzEHJi7w7LbJDF7Oog</td>\n",
       "      <td>4.0</td>\n",
       "      <td>I stayed at the Bellagio for 3 nights this mon...</td>\n",
       "      <td>12.0</td>\n",
       "      <td>uCNgCZCuo07ew0sWPB1z7g</td>\n",
       "      <td>positive</td>\n",
       "    </tr>\n",
       "    <tr>\n",
       "      <th>3342955</th>\n",
       "      <td>Lg238Ittk3KO3lqHyBAcYA</td>\n",
       "      <td>1</td>\n",
       "      <td>2016-10-07 06:05:29</td>\n",
       "      <td>1.0</td>\n",
       "      <td>RCNXjfRdRZ2exHihiy-oqw</td>\n",
       "      <td>5.0</td>\n",
       "      <td>1: book an appointment!  You get to walk past ...</td>\n",
       "      <td>1.0</td>\n",
       "      <td>v1w2A6kHRiI1OD4DyXOiDQ</td>\n",
       "      <td>positive</td>\n",
       "    </tr>\n",
       "    <tr>\n",
       "      <th>3342956</th>\n",
       "      <td>NxeEdKkvbZmuuBar_1NFrg</td>\n",
       "      <td>1</td>\n",
       "      <td>2014-10-19 18:02:56</td>\n",
       "      <td>2.0</td>\n",
       "      <td>g0mcjOV3o3-dPzpKiRecDg</td>\n",
       "      <td>1.0</td>\n",
       "      <td>This review is based on quality of pricing, no...</td>\n",
       "      <td>13.0</td>\n",
       "      <td>j-i6_zboeko9mkR9UIFKMw</td>\n",
       "      <td>negative</td>\n",
       "    </tr>\n",
       "    <tr>\n",
       "      <th>3342957</th>\n",
       "      <td>yvtxKjAySVvpPKt0VLWscQ</td>\n",
       "      <td>0</td>\n",
       "      <td>2018-07-02 20:38:51</td>\n",
       "      <td>0.0</td>\n",
       "      <td>rH76Hu3UG1HcfeDS3zJS-A</td>\n",
       "      <td>2.0</td>\n",
       "      <td>I posted and review earlier that was removed. ...</td>\n",
       "      <td>0.0</td>\n",
       "      <td>yWFFDVEoY_g3aCtMWf7odQ</td>\n",
       "      <td>negative</td>\n",
       "    </tr>\n",
       "  </tbody>\n",
       "</table>\n",
       "</div>"
      ],
      "text/plain": [
       "                    business_id cool                 date  funny  \\\n",
       "3342953  oryS4vX0xkKC4tOekgowDQ    0  2016-07-17 21:32:48    0.0   \n",
       "3342954  na4Th5DrNauOv-c43QQFvA    4  2017-11-28 22:43:05    2.0   \n",
       "3342955  Lg238Ittk3KO3lqHyBAcYA    1  2016-10-07 06:05:29    1.0   \n",
       "3342956  NxeEdKkvbZmuuBar_1NFrg    1  2014-10-19 18:02:56    2.0   \n",
       "3342957  yvtxKjAySVvpPKt0VLWscQ    0  2018-07-02 20:38:51    0.0   \n",
       "\n",
       "                      review_id  stars  \\\n",
       "3342953  pBNcMg-KVzZG-xDu9cgLww    2.0   \n",
       "3342954  xNG2SzEHJi7w7LbJDF7Oog    4.0   \n",
       "3342955  RCNXjfRdRZ2exHihiy-oqw    5.0   \n",
       "3342956  g0mcjOV3o3-dPzpKiRecDg    1.0   \n",
       "3342957  rH76Hu3UG1HcfeDS3zJS-A    2.0   \n",
       "\n",
       "                                                      text  useful  \\\n",
       "3342953  Slow service to seat and then to serve. Left w...     0.0   \n",
       "3342954  I stayed at the Bellagio for 3 nights this mon...    12.0   \n",
       "3342955  1: book an appointment!  You get to walk past ...     1.0   \n",
       "3342956  This review is based on quality of pricing, no...    13.0   \n",
       "3342957  I posted and review earlier that was removed. ...     0.0   \n",
       "\n",
       "                        user_id    target  \n",
       "3342953  srjcYNoIOXJ57VP8z7gwmQ  negative  \n",
       "3342954  uCNgCZCuo07ew0sWPB1z7g  positive  \n",
       "3342955  v1w2A6kHRiI1OD4DyXOiDQ  positive  \n",
       "3342956  j-i6_zboeko9mkR9UIFKMw  negative  \n",
       "3342957  yWFFDVEoY_g3aCtMWf7odQ  negative  "
      ]
     },
     "execution_count": 11,
     "metadata": {},
     "output_type": "execute_result"
    }
   ],
   "source": [
    "df.tail()"
   ]
  },
  {
   "cell_type": "markdown",
   "metadata": {},
   "source": [
    "-------\n",
    "# Exploración de datos mas liviana"
   ]
  },
  {
   "cell_type": "code",
   "execution_count": 38,
   "metadata": {},
   "outputs": [
    {
     "name": "stdout",
     "output_type": "stream",
     "text": [
      "Proporcion por cada cada tipo de estrella:\n"
     ]
    },
    {
     "data": {
      "text/plain": [
       "stars\n",
       "1.0    0.149914\n",
       "2.0    0.081144\n",
       "3.0    0.110502\n",
       "4.0    0.219540\n",
       "5.0    0.438900\n",
       "Name: stars, dtype: float64"
      ]
     },
     "execution_count": 38,
     "metadata": {},
     "output_type": "execute_result"
    }
   ],
   "source": [
    "print('Proporcion por cada cada tipo de estrella:')\n",
    "df.groupby(['stars'])['stars'].count()/df['stars'].count().sum()"
   ]
  },
  {
   "cell_type": "code",
   "execution_count": 13,
   "metadata": {},
   "outputs": [],
   "source": [
    "weights = [\n",
    "    {'id':1, 'weight': 0.149914},\n",
    "    {'id':2, 'weight': 0.081144},\n",
    "    {'id':3, 'weight': 0.110502},\n",
    "    {'id':4, 'weight': 0.219540},\n",
    "    {'id':5, 'weight': 0.438900}\n",
    "]\n",
    "\n",
    "def getWeight(rate):\n",
    "    for x in weights:\n",
    "        if rate == x['id']:\n",
    "            return x['weight']\n",
    "        \n",
    "\n",
    "df['weights'] = df['stars'].apply( lambda x: getWeight(x) )"
   ]
  },
  {
   "cell_type": "code",
   "execution_count": 14,
   "metadata": {},
   "outputs": [
    {
     "data": {
      "text/html": [
       "<div>\n",
       "<style scoped>\n",
       "    .dataframe tbody tr th:only-of-type {\n",
       "        vertical-align: middle;\n",
       "    }\n",
       "\n",
       "    .dataframe tbody tr th {\n",
       "        vertical-align: top;\n",
       "    }\n",
       "\n",
       "    .dataframe thead th {\n",
       "        text-align: right;\n",
       "    }\n",
       "</style>\n",
       "<table border=\"1\" class=\"dataframe\">\n",
       "  <thead>\n",
       "    <tr style=\"text-align: right;\">\n",
       "      <th></th>\n",
       "      <th>business_id</th>\n",
       "      <th>cool</th>\n",
       "      <th>date</th>\n",
       "      <th>funny</th>\n",
       "      <th>review_id</th>\n",
       "      <th>stars</th>\n",
       "      <th>text</th>\n",
       "      <th>useful</th>\n",
       "      <th>user_id</th>\n",
       "      <th>target</th>\n",
       "      <th>weights</th>\n",
       "    </tr>\n",
       "  </thead>\n",
       "  <tbody>\n",
       "    <tr>\n",
       "      <th>0</th>\n",
       "      <td>EhGPj8iJDIdaHnWg9d5BgA</td>\n",
       "      <td>0</td>\n",
       "      <td>2016-04-20 14:30:53</td>\n",
       "      <td>0.0</td>\n",
       "      <td>uJRdHLz4XNmDK5pOkWbZNA</td>\n",
       "      <td>5.0</td>\n",
       "      <td>Best Dim Sum in the city, their cart service i...</td>\n",
       "      <td>0.0</td>\n",
       "      <td>POETn3fQcZ8ngLAARCATSg</td>\n",
       "      <td>positive</td>\n",
       "      <td>0.438900</td>\n",
       "    </tr>\n",
       "    <tr>\n",
       "      <th>1</th>\n",
       "      <td>VPcFNI-6HICR5SJM--KjNA</td>\n",
       "      <td>5</td>\n",
       "      <td>2013-05-14 03:08:12</td>\n",
       "      <td>2.0</td>\n",
       "      <td>TlPh8jy8bt_TSGfjEw-pvA</td>\n",
       "      <td>5.0</td>\n",
       "      <td>How... HOW did I not head down here sooner? Fo...</td>\n",
       "      <td>7.0</td>\n",
       "      <td>oUK6Xs5dPPnP4whFeZExGg</td>\n",
       "      <td>positive</td>\n",
       "      <td>0.438900</td>\n",
       "    </tr>\n",
       "    <tr>\n",
       "      <th>2</th>\n",
       "      <td>ugdUuApH3pYXggW5qpbALg</td>\n",
       "      <td>0</td>\n",
       "      <td>2016-08-26 16:51:37</td>\n",
       "      <td>0.0</td>\n",
       "      <td>GmoBAVE1pTo0kjmeKrXmLQ</td>\n",
       "      <td>4.0</td>\n",
       "      <td>Carnitas were wonderful. First time there and ...</td>\n",
       "      <td>0.0</td>\n",
       "      <td>SiaSUNlKQK7f57WBPmyyNw</td>\n",
       "      <td>positive</td>\n",
       "      <td>0.219540</td>\n",
       "    </tr>\n",
       "    <tr>\n",
       "      <th>3</th>\n",
       "      <td>3fCxmmg8nHGaE5upJWQUrw</td>\n",
       "      <td>0</td>\n",
       "      <td>2016-03-24 17:23:19</td>\n",
       "      <td>0.0</td>\n",
       "      <td>ZHuM9P81zfuNuFZ5ThXNRg</td>\n",
       "      <td>5.0</td>\n",
       "      <td>Great staff who are always willing to help. I ...</td>\n",
       "      <td>0.0</td>\n",
       "      <td>PsH5Qi8R69WAlhNv8mXWRA</td>\n",
       "      <td>positive</td>\n",
       "      <td>0.438900</td>\n",
       "    </tr>\n",
       "    <tr>\n",
       "      <th>4</th>\n",
       "      <td>LAqbIi2TDn8BDvPB0nLVhQ</td>\n",
       "      <td>1</td>\n",
       "      <td>2012-10-25 15:02:48</td>\n",
       "      <td>0.0</td>\n",
       "      <td>-2Ce00mfWYP20yt7k6kARg</td>\n",
       "      <td>3.0</td>\n",
       "      <td>This place is bigger, brighter, new so it's cl...</td>\n",
       "      <td>3.0</td>\n",
       "      <td>r-zUIQPaHzvIyL93wQaoiQ</td>\n",
       "      <td>negative</td>\n",
       "      <td>0.110502</td>\n",
       "    </tr>\n",
       "  </tbody>\n",
       "</table>\n",
       "</div>"
      ],
      "text/plain": [
       "              business_id cool                 date  funny  \\\n",
       "0  EhGPj8iJDIdaHnWg9d5BgA    0  2016-04-20 14:30:53    0.0   \n",
       "1  VPcFNI-6HICR5SJM--KjNA    5  2013-05-14 03:08:12    2.0   \n",
       "2  ugdUuApH3pYXggW5qpbALg    0  2016-08-26 16:51:37    0.0   \n",
       "3  3fCxmmg8nHGaE5upJWQUrw    0  2016-03-24 17:23:19    0.0   \n",
       "4  LAqbIi2TDn8BDvPB0nLVhQ    1  2012-10-25 15:02:48    0.0   \n",
       "\n",
       "                review_id  stars  \\\n",
       "0  uJRdHLz4XNmDK5pOkWbZNA    5.0   \n",
       "1  TlPh8jy8bt_TSGfjEw-pvA    5.0   \n",
       "2  GmoBAVE1pTo0kjmeKrXmLQ    4.0   \n",
       "3  ZHuM9P81zfuNuFZ5ThXNRg    5.0   \n",
       "4  -2Ce00mfWYP20yt7k6kARg    3.0   \n",
       "\n",
       "                                                text  useful  \\\n",
       "0  Best Dim Sum in the city, their cart service i...     0.0   \n",
       "1  How... HOW did I not head down here sooner? Fo...     7.0   \n",
       "2  Carnitas were wonderful. First time there and ...     0.0   \n",
       "3  Great staff who are always willing to help. I ...     0.0   \n",
       "4  This place is bigger, brighter, new so it's cl...     3.0   \n",
       "\n",
       "                  user_id    target   weights  \n",
       "0  POETn3fQcZ8ngLAARCATSg  positive  0.438900  \n",
       "1  oUK6Xs5dPPnP4whFeZExGg  positive  0.438900  \n",
       "2  SiaSUNlKQK7f57WBPmyyNw  positive  0.219540  \n",
       "3  PsH5Qi8R69WAlhNv8mXWRA  positive  0.438900  \n",
       "4  r-zUIQPaHzvIyL93wQaoiQ  negative  0.110502  "
      ]
     },
     "execution_count": 14,
     "metadata": {},
     "output_type": "execute_result"
    }
   ],
   "source": [
    "df.head()"
   ]
  },
  {
   "cell_type": "markdown",
   "metadata": {},
   "source": [
    "-----\n",
    "## Trabajemos con un sample basado en los pesos de la dis tribución"
   ]
  },
  {
   "cell_type": "code",
   "execution_count": 15,
   "metadata": {},
   "outputs": [
    {
     "data": {
      "text/html": [
       "<div>\n",
       "<style scoped>\n",
       "    .dataframe tbody tr th:only-of-type {\n",
       "        vertical-align: middle;\n",
       "    }\n",
       "\n",
       "    .dataframe tbody tr th {\n",
       "        vertical-align: top;\n",
       "    }\n",
       "\n",
       "    .dataframe thead th {\n",
       "        text-align: right;\n",
       "    }\n",
       "</style>\n",
       "<table border=\"1\" class=\"dataframe\">\n",
       "  <thead>\n",
       "    <tr style=\"text-align: right;\">\n",
       "      <th></th>\n",
       "      <th>business_id</th>\n",
       "      <th>cool</th>\n",
       "      <th>date</th>\n",
       "      <th>funny</th>\n",
       "      <th>review_id</th>\n",
       "      <th>stars</th>\n",
       "      <th>text</th>\n",
       "      <th>useful</th>\n",
       "      <th>user_id</th>\n",
       "      <th>target</th>\n",
       "      <th>weights</th>\n",
       "    </tr>\n",
       "  </thead>\n",
       "  <tbody>\n",
       "    <tr>\n",
       "      <th>1393861</th>\n",
       "      <td>oHeiAs-mnDJU1_4BD8_5Dg</td>\n",
       "      <td>0</td>\n",
       "      <td>2014-03-23 00:18:23</td>\n",
       "      <td>1.0</td>\n",
       "      <td>7h2PQpdxX3mu1Tj2yrapEQ</td>\n",
       "      <td>4.0</td>\n",
       "      <td>Excited that there's a new place to eat around...</td>\n",
       "      <td>11.0</td>\n",
       "      <td>h7a4TrmV9rBrBIcJgD54CQ</td>\n",
       "      <td>positive</td>\n",
       "      <td>0.21954</td>\n",
       "    </tr>\n",
       "    <tr>\n",
       "      <th>2407437</th>\n",
       "      <td>RC676YqyW2DCf9HhF1dPOQ</td>\n",
       "      <td>0</td>\n",
       "      <td>2015-03-26 17:26:05</td>\n",
       "      <td>0.0</td>\n",
       "      <td>Ntt4zSXcNM1p9HoI2usVag</td>\n",
       "      <td>5.0</td>\n",
       "      <td>I found this studio when I received a spa find...</td>\n",
       "      <td>1.0</td>\n",
       "      <td>dIHe5qoehkggNLcExPw_VQ</td>\n",
       "      <td>positive</td>\n",
       "      <td>0.43890</td>\n",
       "    </tr>\n",
       "    <tr>\n",
       "      <th>396</th>\n",
       "      <td>5QNXZcclknB2PkfeN7FJWQ</td>\n",
       "      <td>2</td>\n",
       "      <td>2011-04-04 00:57:05</td>\n",
       "      <td>2.0</td>\n",
       "      <td>Tc_BpEyOIN1OMJMoyXqugw</td>\n",
       "      <td>4.0</td>\n",
       "      <td>Rating this place is almost unfair. First off....</td>\n",
       "      <td>3.0</td>\n",
       "      <td>2DECrukmumziXTBI20idTA</td>\n",
       "      <td>positive</td>\n",
       "      <td>0.21954</td>\n",
       "    </tr>\n",
       "    <tr>\n",
       "      <th>1011074</th>\n",
       "      <td>K-SsrPH0nFExdpLrTo1X1w</td>\n",
       "      <td>0</td>\n",
       "      <td>2015-12-09 00:25:39</td>\n",
       "      <td>0.0</td>\n",
       "      <td>BX-1VF4f5PvwYbbwFysE2A</td>\n",
       "      <td>4.0</td>\n",
       "      <td>Burgatory is a great place to \"get your carniv...</td>\n",
       "      <td>0.0</td>\n",
       "      <td>cz8H43bKsrhv_KHRgk07QQ</td>\n",
       "      <td>positive</td>\n",
       "      <td>0.21954</td>\n",
       "    </tr>\n",
       "    <tr>\n",
       "      <th>490528</th>\n",
       "      <td>Ac-DbrST8bF9Cpge5D9_Cg</td>\n",
       "      <td>0</td>\n",
       "      <td>2015-09-06 05:18:36</td>\n",
       "      <td>0.0</td>\n",
       "      <td>4FpiAh_Y3gvFU_uygV1U7Q</td>\n",
       "      <td>4.0</td>\n",
       "      <td>The best Pho and dumplings I've had in Pittsbu...</td>\n",
       "      <td>0.0</td>\n",
       "      <td>icmG-ZBRNSScSUJ-Nj1lhQ</td>\n",
       "      <td>positive</td>\n",
       "      <td>0.21954</td>\n",
       "    </tr>\n",
       "  </tbody>\n",
       "</table>\n",
       "</div>"
      ],
      "text/plain": [
       "                    business_id cool                 date  funny  \\\n",
       "1393861  oHeiAs-mnDJU1_4BD8_5Dg    0  2014-03-23 00:18:23    1.0   \n",
       "2407437  RC676YqyW2DCf9HhF1dPOQ    0  2015-03-26 17:26:05    0.0   \n",
       "396      5QNXZcclknB2PkfeN7FJWQ    2  2011-04-04 00:57:05    2.0   \n",
       "1011074  K-SsrPH0nFExdpLrTo1X1w    0  2015-12-09 00:25:39    0.0   \n",
       "490528   Ac-DbrST8bF9Cpge5D9_Cg    0  2015-09-06 05:18:36    0.0   \n",
       "\n",
       "                      review_id  stars  \\\n",
       "1393861  7h2PQpdxX3mu1Tj2yrapEQ    4.0   \n",
       "2407437  Ntt4zSXcNM1p9HoI2usVag    5.0   \n",
       "396      Tc_BpEyOIN1OMJMoyXqugw    4.0   \n",
       "1011074  BX-1VF4f5PvwYbbwFysE2A    4.0   \n",
       "490528   4FpiAh_Y3gvFU_uygV1U7Q    4.0   \n",
       "\n",
       "                                                      text  useful  \\\n",
       "1393861  Excited that there's a new place to eat around...    11.0   \n",
       "2407437  I found this studio when I received a spa find...     1.0   \n",
       "396      Rating this place is almost unfair. First off....     3.0   \n",
       "1011074  Burgatory is a great place to \"get your carniv...     0.0   \n",
       "490528   The best Pho and dumplings I've had in Pittsbu...     0.0   \n",
       "\n",
       "                        user_id    target  weights  \n",
       "1393861  h7a4TrmV9rBrBIcJgD54CQ  positive  0.21954  \n",
       "2407437  dIHe5qoehkggNLcExPw_VQ  positive  0.43890  \n",
       "396      2DECrukmumziXTBI20idTA  positive  0.21954  \n",
       "1011074  cz8H43bKsrhv_KHRgk07QQ  positive  0.21954  \n",
       "490528   icmG-ZBRNSScSUJ-Nj1lhQ  positive  0.21954  "
      ]
     },
     "execution_count": 15,
     "metadata": {},
     "output_type": "execute_result"
    }
   ],
   "source": [
    "sample = df.sample(n=1000, weights='weights', random_state=1)\n",
    "sample.head()"
   ]
  },
  {
   "cell_type": "code",
   "execution_count": 16,
   "metadata": {},
   "outputs": [
    {
     "data": {
      "image/png": "[encoded data removed]",
      "text/plain": [
       "<Figure size 432x288 with 1 Axes>"
      ]
     },
     "metadata": {
      "needs_background": "light"
     },
     "output_type": "display_data"
    }
   ],
   "source": [
    "# validemos la distribución del sample\n",
    "\n",
    "ratings = sample['stars'] # data from the sample\n",
    "\n",
    "fig = plt.figure(figsize = (6, 4))\n",
    "\n",
    "title = fig.suptitle(\"Stars distribution for the sample\", fontsize=14)\n",
    "\n",
    "fig.subplots_adjust(top=0.85, wspace=0.3)\n",
    "\n",
    "ax = fig.add_subplot(1,1, 1)\n",
    "ax.set_xlabel(\"Rating\")\n",
    "ax.set_ylabel(\"Proportion\") \n",
    "w_q = ratings.value_counts(normalize=True)\n",
    "w_q = (list(w_q.index), list(w_q.values))\n",
    "ax.tick_params(axis='both', which='major', labelsize=8.5)\n",
    "bar = ax.bar(w_q[0], w_q[1], color='steelblue')"
   ]
  },
  {
   "cell_type": "code",
   "execution_count": null,
   "metadata": {},
   "outputs": [],
   "source": []
  }
 ],
 "metadata": {
  "kernelspec": {
   "display_name": "Python 3",
   "language": "python",
   "name": "python3"
  },
  "language_info": {
   "codemirror_mode": {
    "name": "ipython",
    "version": 3
   },
   "file_extension": ".py",
   "mimetype": "text/x-python",
   "name": "python",
   "nbconvert_exporter": "python",
   "pygments_lexer": "ipython3",
   "version": "3.7.3"
  }
 },
 "nbformat": 4,
 "nbformat_minor": 4
}
