{
 "cells": [
  {
   "cell_type": "markdown",
   "metadata": {},
   "source": [
    "# Ejercicio 2 - De que hablamos cuando hablamos\n",
    "\n",
    "Vamos a analizar un chat de la aplicación de mensajería whatapp. Lo ideal es que sea con *una* persona que tengamos mas charla, pero también puede ser un grupo.\n",
    "La idea es encontrar aquellas palabras, frases, incluso emojis mas frecuentes. Realizar analísis estadísticos, y poder presentar la información encontrada en diferentes formas.\n",
    "\n",
    "--- \n",
    "\n",
    "### Preparación\n",
    "\n",
    "* Vamos a necesitar un chat, para ello pueden probar esta guía [acá](https://www.imyfone.com/whatsapp/export-whatsapp-chat/). No es necesario instalarse ninguna herramienta o aplicación para obtener los chats.\n",
    "* A la hora de realizar la importación no nos interesa los archivos multimedia.\n",
    "* Una vez generado se lo pueden enviar por mail, o a su cuenta de google drive.\n",
    "* Guardarlo en el directorio donde vayan a realizar este laboratorio.\n",
    "\n",
    "### Objetivos\n",
    "La idea es encontrar información relevante e interesante sobre lo que hablamos a diario con alguien. Poder realizar un analisis exploratorio y estadístico. Como por ejemplo:\n",
    "* Frases mas usadas\n",
    "* Palabra mas y menos usada\n",
    "* Distribución de los tokens del corpus\n",
    "* Usamos emojis? cuantos? cuales?\n",
    "* A que hora hablamos mas?\n",
    "* Tiempo que pasamos sin charlar.\n",
    "* Gráficos relevantes como por ejemplo una nube con los tokens mas usasados."
   ]
  },
  {
   "cell_type": "code",
   "execution_count": 1,
   "metadata": {},
   "outputs": [],
   "source": [
    "# Imports necesarios"
   ]
  },
  {
   "cell_type": "code",
   "execution_count": null,
   "metadata": {},
   "outputs": [],
   "source": []
  }
 ],
 "metadata": {
  "kernelspec": {
   "display_name": "Python 3",
   "language": "python",
   "name": "python3"
  },
  "language_info": {
   "codemirror_mode": {
    "name": "ipython",
    "version": 3
   },
   "file_extension": ".py",
   "mimetype": "text/x-python",
   "name": "python",
   "nbconvert_exporter": "python",
   "pygments_lexer": "ipython3",
   "version": "3.7.3"
  }
 },
 "nbformat": 4,
 "nbformat_minor": 4
}
