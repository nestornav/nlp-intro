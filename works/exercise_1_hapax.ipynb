{
 "cells": [
  {
   "cell_type": "markdown",
   "metadata": {},
   "source": [
    "## Ejercicio 1 - Hapax\n",
    "\n",
    "Un hapax legomenon es un termino que proviene del griego, y hace referencia a una palabra que ocurre una única vez dentro de un contexto. Este contexto, queda definido muchas veces por el caso de estudio.\n",
    "\n",
    "---\n",
    "\n",
    "El objetivo de este ejercicio, es encontrar el Hapax dentro del corpus del Quijote de la Mancha. Deberán es aplicar algunas técnicas de limpieza de datos, y tokenización para poder ver si existe o no dentrodel Quijote, un hapax.\n",
    "\n",
    "Como se dijo, hapax puede depender de contexto que se defina. Para este ejercicio, el contexto será:\n",
    "* El corpus completo.\n",
    "* Una unidad a elección del grupo."
   ]
  },
  {
   "cell_type": "code",
   "execution_count": 1,
   "metadata": {},
   "outputs": [],
   "source": [
    "# Imports necesarios."
   ]
  },
  {
   "cell_type": "code",
   "execution_count": null,
   "metadata": {},
   "outputs": [],
   "source": []
  }
 ],
 "metadata": {
  "kernelspec": {
   "display_name": "Python 3",
   "language": "python",
   "name": "python3"
  },
  "language_info": {
   "codemirror_mode": {
    "name": "ipython",
    "version": 3
   },
   "file_extension": ".py",
   "mimetype": "text/x-python",
   "name": "python",
   "nbconvert_exporter": "python",
   "pygments_lexer": "ipython3",
   "version": "3.7.3"
  }
 },
 "nbformat": 4,
 "nbformat_minor": 4
}
