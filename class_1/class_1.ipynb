{
 "cells": [
  {
   "cell_type": "code",
   "execution_count": 1,
   "metadata": {},
   "outputs": [],
   "source": [
    "import re"
   ]
  },
  {
   "cell_type": "markdown",
   "metadata": {},
   "source": [
    "# Procesamiento de Texto\n",
    "\n",
    "## Probemos algunas RegEx"
   ]
  },
  {
   "cell_type": "code",
   "execution_count": 14,
   "metadata": {},
   "outputs": [],
   "source": [
    "# Definimos algunos textos para hacer diferentes pruebas.\n",
    "\n",
    "txt_1 = \"\"\"\n",
    "Todos sabemos que el túnel que pasa bajo las vías en la estación Flores es una de las entradas del infierno.\n",
    "Cierta noche de otoño, el ruso Salzman, uno de los tahúres más prometedores del barrio,\n",
    "estaba haciendo un solitario en uno de los bares mugrientos que existen ahí.\n",
    "\"\"\"\n",
    "\n",
    "txt_2 = \"\"\"\n",
    "esta Es una Prueba, enviada desde @lala.com para buscar el email: nestornav@gmail.com.\n",
    "Si desea desuscribirse de nuestro servicio escriba a unsuscribe@lala.com.\n",
    "\"\"\""
   ]
  },
  {
   "cell_type": "code",
   "execution_count": 13,
   "metadata": {
    "scrolled": true
   },
   "outputs": [
    {
     "name": "stdout",
     "output_type": "stream",
     "text": [
      "None\n"
     ]
    }
   ],
   "source": [
    "print(re.match( r'[\\w.-]+@[\\w.-]+', txt))"
   ]
  },
  {
   "cell_type": "code",
   "execution_count": 12,
   "metadata": {},
   "outputs": [
    {
     "name": "stdout",
     "output_type": "stream",
     "text": [
      "['nestornav@gmail.com.', 'unsuscribe@lala.com.']\n"
     ]
    }
   ],
   "source": [
    "print(re.findall( r'[\\w.-]+@[\\w.-]+', txt_2))"
   ]
  },
  {
   "cell_type": "code",
   "execution_count": 17,
   "metadata": {},
   "outputs": [
    {
     "data": {
      "text/plain": [
       "' Todos sabemos que el t nel que pasa bajo las v as en la estaci n Flores es una de las entradas del infierno  Cierta noche de oto o  el ruso Salzman  uno de los tah res m s prometedores del barrio  estaba haciendo un solitario en uno de los bares mugrientos que existen ah   '"
      ]
     },
     "execution_count": 17,
     "metadata": {},
     "output_type": "execute_result"
    }
   ],
   "source": [
    " re.sub(\"[^a-zA-Z]\", \" \", txt_1)"
   ]
  },
  {
   "cell_type": "code",
   "execution_count": 18,
   "metadata": {},
   "outputs": [
    {
     "data": {
      "text/plain": [
       "['\\nesta',\n",
       " 'Es',\n",
       " 'una',\n",
       " 'Prueba,',\n",
       " 'enviada',\n",
       " 'desde',\n",
       " '@lala.com',\n",
       " 'para',\n",
       " 'buscar',\n",
       " 'el',\n",
       " 'email:',\n",
       " 'nestornav@gmail.com.\\nSi',\n",
       " 'desea',\n",
       " 'desuscribirse',\n",
       " 'de',\n",
       " 'nuestro',\n",
       " 'servicio',\n",
       " 'escriba',\n",
       " 'a',\n",
       " 'unsuscribe@lala.com.\\n']"
      ]
     },
     "execution_count": 18,
     "metadata": {},
     "output_type": "execute_result"
    }
   ],
   "source": [
    "re.split(' ',txt_2)"
   ]
  },
  {
   "cell_type": "markdown",
   "metadata": {},
   "source": [
    "---\n",
    "## Tokenización"
   ]
  },
  {
   "cell_type": "code",
   "execution_count": 35,
   "metadata": {},
   "outputs": [],
   "source": [
    "sentense = []\n",
    "with open('../works/data/don_quijote.txt', 'r') as f:\n",
    "    for line in f:\n",
    "        sentense.append(line)"
   ]
  },
  {
   "cell_type": "code",
   "execution_count": 36,
   "metadata": {},
   "outputs": [
    {
     "data": {
      "text/plain": [
       "37862"
      ]
     },
     "execution_count": 36,
     "metadata": {},
     "output_type": "execute_result"
    }
   ],
   "source": [
    "len(sentense)"
   ]
  },
  {
   "cell_type": "code",
   "execution_count": null,
   "metadata": {},
   "outputs": [],
   "source": []
  }
 ],
 "metadata": {
  "kernelspec": {
   "display_name": "Python 3",
   "language": "python",
   "name": "python3"
  },
  "language_info": {
   "codemirror_mode": {
    "name": "ipython",
    "version": 3
   },
   "file_extension": ".py",
   "mimetype": "text/x-python",
   "name": "python",
   "nbconvert_exporter": "python",
   "pygments_lexer": "ipython3",
   "version": "3.7.3"
  }
 },
 "nbformat": 4,
 "nbformat_minor": 4
}
